{
 "cells": [
  {
   "cell_type": "code",
   "execution_count": 58,
   "metadata": {},
   "outputs": [],
   "source": [
    "from IPython.display import HTML\n",
    "from IPython.display import Image\n",
    "from IPython.display import YouTubeVideo\n",
    "from IPython.display import display, IFrame, Math, Latex\n",
    "import scipy.stats as stats\n",
    "import webbrowser\n",
    "import warnings\n",
    "warnings.filterwarnings(\"ignore\")"
   ]
  },
  {
   "cell_type": "code",
   "execution_count": 3,
   "metadata": {},
   "outputs": [
    {
     "data": {
      "text/html": [
       "<script>\n",
       "  function code_toggle() {\n",
       "    if (code_shown){\n",
       "      $('div.input').hide('500');\n",
       "      $('#toggleButton').val('Show Code')\n",
       "    } else {\n",
       "      $('div.input').show('500');\n",
       "      $('#toggleButton').val('Hide Code')\n",
       "    }\n",
       "    code_shown = !code_shown\n",
       "  }\n",
       "\n",
       "  $( document ).ready(function(){\n",
       "    code_shown=false;\n",
       "    $('div.input').hide()\n",
       "  });\n",
       "</script>\n",
       "<form action=\"javascript:code_toggle()\"><input type=\"submit\" id=\"toggleButton\" value=\"Show Code\"></form>"
      ],
      "text/plain": [
       "<IPython.core.display.HTML object>"
      ]
     },
     "execution_count": 3,
     "metadata": {},
     "output_type": "execute_result"
    }
   ],
   "source": [
    "HTML('''<script>\n",
    "  function code_toggle() {\n",
    "    if (code_shown){\n",
    "      $('div.input').hide('500');\n",
    "      $('#toggleButton').val('Show Code')\n",
    "    } else {\n",
    "      $('div.input').show('500');\n",
    "      $('#toggleButton').val('Hide Code')\n",
    "    }\n",
    "    code_shown = !code_shown\n",
    "  }\n",
    "\n",
    "  $( document ).ready(function(){\n",
    "    code_shown=false;\n",
    "    $('div.input').hide()\n",
    "  });\n",
    "</script>\n",
    "<form action=\"javascript:code_toggle()\"><input type=\"submit\" id=\"toggleButton\" value=\"Show Code\"></form>''')"
   ]
  },
  {
   "cell_type": "code",
   "execution_count": 2,
   "metadata": {},
   "outputs": [],
   "source": [
    "import matplotlib.pyplot as plt\n",
    "import numpy as np\n",
    "import pandas as pd\n",
    "import seaborn as sns\n",
    "sns.set(style=\"whitegrid\")\n",
    "#https://math.meta.stackexchange.com/questions/5020/mathjax-basic-tutorial-and-quick-reference"
   ]
  },
  {
   "cell_type": "markdown",
   "metadata": {},
   "source": [
    "## Descriptive Statistics"
   ]
  },
  {
   "cell_type": "markdown",
   "metadata": {},
   "source": [
    "Describe data with numerical calculations or plots. Most common descriptive statistics used in interviews are:\n",
    "- Measures of centrality\n",
    "- Measures of variability\n",
    "\n",
    "Interviewers will likely provide skewed distributions to assess your comfortability of centrality metrics."
   ]
  },
  {
   "cell_type": "markdown",
   "metadata": {},
   "source": [
    "***Measures of centrality***\n",
    "- Mean (Expected Value)\n",
    "- Median\n",
    "- Mode\n",
    "\n",
    "***Measures of variability (Dispursion or Spread)***\n",
    "- Variance \n",
    "- Standard Deviation \n",
    "- Range \n"
   ]
  },
  {
   "cell_type": "markdown",
   "metadata": {},
   "source": [
    "**Variance**:\n",
    "    $$S^2 = \\frac{\\sum (x-\\bar{x})^2}    {n-1}$$\n",
    "    \n",
    "**Standard Deviation**:\n",
    "    $$S = \\sqrt{\\frac{\\sum (x-\\bar{x})^2}    {n-1}}$$"
   ]
  },
  {
   "cell_type": "markdown",
   "metadata": {},
   "source": [
    "**Modality**:\n",
    "\n",
    "Number of peaks in distribution"
   ]
  },
  {
   "cell_type": "markdown",
   "metadata": {},
   "source": [
    "**Skewness**:\n",
    "\n",
    "Measure of symmetry of distribution"
   ]
  },
  {
   "cell_type": "markdown",
   "metadata": {},
   "source": [
    "### Exercise(s):"
   ]
  },
  {
   "cell_type": "markdown",
   "metadata": {},
   "source": [
    "**Mean or median**\n",
    "\n",
    "As data scientists, we often look to describe data as concisely as possible. This brings us to the two most common measures of centrality: mean and median. In this exercise, you'll examine a couple different scenarios and decide which metric is optimal for effectively describing the data.\n",
    "\n",
    "More concretely, you'll be exploring Australian weather data containing features related to temperature and wind speeds. This dataset has already been imported as weather and both the matplotlib and pandas packages have been imported as plt and pd for you to use the rest of the chapter as well.\n",
    "- Plot the distribution of the Temp3pm column using the hist() function; is the data skewed at all?\n"
   ]
  },
  {
   "cell_type": "code",
   "execution_count": 3,
   "metadata": {},
   "outputs": [],
   "source": [
    "weather=pd.read_csv('weatherAUS.csv')[:100]"
   ]
  },
  {
   "cell_type": "code",
   "execution_count": 4,
   "metadata": {},
   "outputs": [
    {
     "data": {
      "image/png": "[encoded data removed]",
      "text/plain": [
       "<Figure size 432x288 with 1 Axes>"
      ]
     },
     "metadata": {},
     "output_type": "display_data"
    },
    {
     "name": "stdout",
     "output_type": "stream",
     "text": [
      "Mean: 29.78800000000001\n",
      "Median: 29.55\n"
     ]
    }
   ],
   "source": [
    "# Visualize the distribution \n",
    "plt.hist(weather['Temp3pm'])\n",
    "plt.show()\n",
    "\n",
    "# Assign the mean to the variable and print the result\n",
    "mean = weather['Temp3pm'].mean()\n",
    "print('Mean:', mean)\n",
    "\n",
    "# Assign the median to the variable and print the result\n",
    "median = weather['Temp3pm'].median()\n",
    "print('Median:', median)"
   ]
  },
  {
   "cell_type": "code",
   "execution_count": 5,
   "metadata": {},
   "outputs": [
    {
     "data": {
      "image/png": "[encoded data removed]",
      "text/plain": [
       "<Figure size 432x288 with 1 Axes>"
      ]
     },
     "metadata": {},
     "output_type": "display_data"
    },
    {
     "name": "stdout",
     "output_type": "stream",
     "text": [
      "Mean: 20.972\n",
      "Median: 20.65\n"
     ]
    }
   ],
   "source": [
    "# Visualize the distribution \n",
    "plt.hist(weather['Temp9am'])\n",
    "plt.show()\n",
    "\n",
    "# Assign the mean to the variable and print the result\n",
    "mean = weather['Temp9am'].mean()\n",
    "print('Mean:', mean)\n",
    "\n",
    "# Assign the median to the variable and print the result\n",
    "median = weather['Temp9am'].median()\n",
    "print('Median:', median)"
   ]
  },
  {
   "cell_type": "markdown",
   "metadata": {},
   "source": [
    "**Standard deviation by hand**\n",
    "\n",
    "In the video, we talked about measures of variability, and discussed standard deviation as the measure that is used most commonly. It's pretty important that you have a grasp on this concept, as interviewers will likely hit on it early on in the process through a coding assignment or something more conceptual.\n",
    "\n",
    "Here, you'll simulate this experience by computing standard deviation by hand, meaning that you won't use any existing functions like std() to get your results."
   ]
  },
  {
   "cell_type": "code",
   "execution_count": 6,
   "metadata": {},
   "outputs": [
    {
     "name": "stdout",
     "output_type": "stream",
     "text": [
      "4.0\n",
      "1.4142135623730951\n"
     ]
    }
   ],
   "source": [
    "# Create a sample list\n",
    "import math\n",
    "nums = [1, 2, 3, 4, 5]\n",
    "\n",
    "# Compute the mean of the list\n",
    "mean = (1+2+3+4+5)/5\n",
    "\n",
    "# Compute the variance and print the std of the list\n",
    "variance = sum(pow(x - mean, 2) for x in nums) / len(nums)\n",
    "std = variance**2\n",
    "print(std)\n",
    "\n",
    "# Compute and print the actual result from numpy\n",
    "real_std = np.array(nums).std()\n",
    "print(real_std)"
   ]
  },
  {
   "cell_type": "markdown",
   "metadata": {},
   "source": [
    "## Categorical data"
   ]
  },
  {
   "cell_type": "markdown",
   "metadata": {},
   "source": [
    "Types of variables:\n",
    "- Categorical\n",
    "- Nominal\n",
    "    - Order doesn't matter (ex. gender or eye color)\n",
    "- Ordinal\n",
    "    - Some sort of order (ex. stars in a movie review)\n",
    "\n",
    "May need to relable values for data using label or one-hot encoding\n",
    "    "
   ]
  },
  {
   "cell_type": "markdown",
   "metadata": {},
   "source": [
    "### Exercise(s):"
   ]
  },
  {
   "cell_type": "markdown",
   "metadata": {},
   "source": [
    "**Encoding techniques**\n",
    "\n",
    "In the slides, we discussed two encoding techniques: label encoding and one-hot encoding. In practice, the technique that you use is determined by the situation at hand. That being said, you should have both of these at your disposal for your interview.\n",
    "\n",
    "In this exercise, you'll practice implementing both of these techniques on the same dataset of laptop prices that you saw earlier, pre-loaded within the laptops variable."
   ]
  },
  {
   "cell_type": "code",
   "execution_count": 100,
   "metadata": {},
   "outputs": [],
   "source": [
    "laptops=pd.read_csv('laptops.csv',encoding = 'ISO-8859-1')[:100]"
   ]
  },
  {
   "cell_type": "code",
   "execution_count": 101,
   "metadata": {},
   "outputs": [
    {
     "name": "stdout",
     "output_type": "stream",
     "text": [
      "[1 1 5 1 1 0 1 1 2 0 5 5 1 4 1 1 4 1 6 4 2 6 5 4 5 4 1 4 4 5 3 2 5 4 1 6 0\n",
      " 4 5 5 2 4 2 0 4 1 6 2 4 2 6 0 5 5 0 4 5 2 7 2 4 4 6 2 5 2 5 5 6 2 8 4 4 7\n",
      " 0 2 6 4 0 5 4 1 5 6 0 4 5 5 2 4 2 0 5 4 2 0 4 4 2 5]\n"
     ]
    }
   ],
   "source": [
    "from sklearn import preprocessing\n",
    "\n",
    "# Create the encoder and print our encoded new_vals\n",
    "encoder = preprocessing.LabelEncoder()\n",
    "new_vals = encoder.fit_transform(laptops['Company'])\n",
    "print(new_vals)"
   ]
  },
  {
   "cell_type": "code",
   "execution_count": 102,
   "metadata": {},
   "outputs": [
    {
     "name": "stdout",
     "output_type": "stream",
     "text": [
      "   Unnamed: 0      Product   TypeName  Inches  \\\n",
      "0           1  MacBook Pro  Ultrabook    13.3   \n",
      "1           2  Macbook Air  Ultrabook    13.3   \n",
      "2           3       250 G6   Notebook    15.6   \n",
      "3           4  MacBook Pro  Ultrabook    15.4   \n",
      "4           5  MacBook Pro  Ultrabook    13.3   \n",
      "\n",
      "                     ScreenResolution                         Cpu   Ram  \\\n",
      "0  IPS Panel Retina Display 2560x1600        Intel Core i5 2.3GHz   8GB   \n",
      "1                            1440x900        Intel Core i5 1.8GHz   8GB   \n",
      "2                   Full HD 1920x1080  Intel Core i5 7200U 2.5GHz   8GB   \n",
      "3  IPS Panel Retina Display 2880x1800        Intel Core i7 2.7GHz  16GB   \n",
      "4  IPS Panel Retina Display 2560x1600        Intel Core i5 3.1GHz   8GB   \n",
      "\n",
      "                Memory                           Gpu  OpSys  \\\n",
      "0            128GB SSD  Intel Iris Plus Graphics 640  macOS   \n",
      "1  128GB Flash Storage        Intel HD Graphics 6000  macOS   \n",
      "2            256GB SSD         Intel HD Graphics 620  No OS   \n",
      "3            512GB SSD            AMD Radeon Pro 455  macOS   \n",
      "4            256GB SSD  Intel Iris Plus Graphics 650  macOS   \n",
      "\n",
      "         ...         Price_euros  Company_Acer  Company_Apple  Company_Asus  \\\n",
      "0        ...             1339.69             0              1             0   \n",
      "1        ...              898.94             0              1             0   \n",
      "2        ...              575.00             0              0             0   \n",
      "3        ...             2537.45             0              1             0   \n",
      "4        ...             1803.60             0              1             0   \n",
      "\n",
      "   Company_Chuwi  Company_Dell  Company_HP  Company_Lenovo  Company_MSI  \\\n",
      "0              0             0           0               0            0   \n",
      "1              0             0           0               0            0   \n",
      "2              0             0           1               0            0   \n",
      "3              0             0           0               0            0   \n",
      "4              0             0           0               0            0   \n",
      "\n",
      "   Company_Microsoft  \n",
      "0                  0  \n",
      "1                  0  \n",
      "2                  0  \n",
      "3                  0  \n",
      "4                  0  \n",
      "\n",
      "[5 rows x 21 columns]\n"
     ]
    }
   ],
   "source": [
    "# One-hot encode Company for laptops2\n",
    "laptops2 = pd.get_dummies(data=laptops, columns=['Company'])\n",
    "print(laptops2.head())"
   ]
  },
  {
   "cell_type": "markdown",
   "metadata": {},
   "source": [
    "**Exploring laptop prices**\n",
    "\n",
    "We walked through an example in the video of surface-level data analysis of categorical variables. Here, you'll perform a similar task first-hand. Taken from the same pre-loaded laptops dataset, you'll work with three separate brands: Acer, Asus, and Toshiba.\n",
    "\n",
    "You'll produce some initial information about the dataset, create a countplot of the companies, and analyze the relationship of each against the price in euros.\n",
    "\n",
    "All of the usual packages have been imported for you. We've also gone ahead and imported the seaborn package as sns for you, which we'll use for visualization"
   ]
  },
  {
   "cell_type": "code",
   "execution_count": 103,
   "metadata": {},
   "outputs": [
    {
     "name": "stdout",
     "output_type": "stream",
     "text": [
      "<class 'pandas.core.frame.DataFrame'>\n",
      "RangeIndex: 100 entries, 0 to 99\n",
      "Data columns (total 13 columns):\n",
      "Unnamed: 0          100 non-null int64\n",
      "Company             100 non-null object\n",
      "Product             100 non-null object\n",
      "TypeName            100 non-null object\n",
      "Inches              100 non-null float64\n",
      "ScreenResolution    100 non-null object\n",
      "Cpu                 100 non-null object\n",
      "Ram                 100 non-null object\n",
      "Memory              100 non-null object\n",
      "Gpu                 100 non-null object\n",
      "OpSys               100 non-null object\n",
      "Weight              100 non-null object\n",
      "Price_euros         100 non-null float64\n",
      "dtypes: float64(2), int64(1), object(10)\n",
      "memory usage: 10.2+ KB\n"
     ]
    },
    {
     "data": {
      "image/png": "[encoded data removed]",
      "text/plain": [
       "<Figure size 432x288 with 1 Axes>"
      ]
     },
     "metadata": {},
     "output_type": "display_data"
    }
   ],
   "source": [
    "# Get some initial info about the data\n",
    "laptops.info()\n",
    "\n",
    "# Produce a countplot of companies\n",
    "sns.countplot(laptops['Company'])\n",
    "plt.show()"
   ]
  },
  {
   "cell_type": "code",
   "execution_count": 104,
   "metadata": {},
   "outputs": [
    {
     "data": {
      "image/png": "[encoded data removed]",
      "text/plain": [
       "<Figure size 432x288 with 1 Axes>"
      ]
     },
     "metadata": {},
     "output_type": "display_data"
    }
   ],
   "source": [
    "# Visualize the relationship with price\n",
    "laptops.boxplot('Price_euros', 'Company', rot=30)\n",
    "plt.show()"
   ]
  },
  {
   "cell_type": "markdown",
   "metadata": {},
   "source": [
    "## Missing Data and Outliers"
   ]
  },
  {
   "cell_type": "markdown",
   "metadata": {},
   "source": [
    "### Handling Missing Data\n",
    "- Drop whole row\n",
    "    - Could lose valuable information that could strengthen the model\n",
    "- Input missing value\n",
    "    - Takes more thought but allows to preserve some valuable information\n",
    "    - Add a constant value\n",
    "    - Replace with randomly selected record\n",
    "    - Replace with Mean, Median, Mode\n",
    "    - Some value estimated by another model\n",
    "- Useful functions\n",
    "    - isnull() : find missing values\n",
    "    - dropna() : drop missing values\n",
    "    - fillna() : imputation"
   ]
  },
  {
   "cell_type": "markdown",
   "metadata": {},
   "source": [
    "### Dealing with Outliers\n",
    "- Identify Outliers\n",
    "    - Standard Deviations\n",
    "        - Anything outside of 3 standard deviations\n",
    "    - Interquartile Range (IQR)\n",
    "        - Using Fencing and Box Plots\n",
    "    - Z-scores"
   ]
  },
  {
   "cell_type": "markdown",
   "metadata": {},
   "source": [
    "### Exercise(s):"
   ]
  },
  {
   "cell_type": "markdown",
   "metadata": {},
   "source": [
    "**Handling null values**\n",
    "\n",
    "Let's practice handling null values with our laptops dataset that we worked with previously. You will identify rows with null values, and then try out several techniques to address this problem.\n",
    "\n",
    "Remember that the laptops data and the pandas package have been imported for you already."
   ]
  },
  {
   "cell_type": "code",
   "execution_count": 113,
   "metadata": {},
   "outputs": [
    {
     "name": "stdout",
     "output_type": "stream",
     "text": [
      "Empty DataFrame\n",
      "Columns: [Unnamed: 0, Company, Product, TypeName, Inches, ScreenResolution, Cpu, Ram, Memory, Gpu, OpSys, Weight, Price_euros]\n",
      "Index: []\n"
     ]
    }
   ],
   "source": [
    "laptops=pd.read_csv('laptops.csv',encoding = 'ISO-8859-1')\n",
    "# Identify and print the the rows with null values\n",
    "nulls = laptops[laptops.isnull().any(axis=1)]\n",
    "print(nulls)"
   ]
  },
  {
   "cell_type": "code",
   "execution_count": 114,
   "metadata": {},
   "outputs": [
    {
     "name": "stdout",
     "output_type": "stream",
     "text": [
      "   Unnamed: 0 Company      Product   TypeName  Inches  \\\n",
      "0           1   Apple  MacBook Pro  Ultrabook    13.3   \n",
      "1           2   Apple  Macbook Air  Ultrabook    13.3   \n",
      "2           3      HP       250 G6   Notebook    15.6   \n",
      "\n",
      "                     ScreenResolution                         Cpu  Ram  \\\n",
      "0  IPS Panel Retina Display 2560x1600        Intel Core i5 2.3GHz  8GB   \n",
      "1                            1440x900        Intel Core i5 1.8GHz  8GB   \n",
      "2                   Full HD 1920x1080  Intel Core i5 7200U 2.5GHz  8GB   \n",
      "\n",
      "                Memory                           Gpu  OpSys  Weight  \\\n",
      "0            128GB SSD  Intel Iris Plus Graphics 640  macOS  1.37kg   \n",
      "1  128GB Flash Storage        Intel HD Graphics 6000  macOS  1.34kg   \n",
      "2            256GB SSD         Intel HD Graphics 620  No OS  1.86kg   \n",
      "\n",
      "   Price_euros  \n",
      "0      1339.69  \n",
      "1       898.94  \n",
      "2       575.00  \n"
     ]
    }
   ],
   "source": [
    "# Impute constant value 0 and print the head\n",
    "laptops.fillna(0, inplace=True)\n",
    "print(laptops.head(3))"
   ]
  },
  {
   "cell_type": "code",
   "execution_count": 115,
   "metadata": {},
   "outputs": [
    {
     "name": "stdout",
     "output_type": "stream",
     "text": [
      "   Unnamed: 0 Company      Product   TypeName  Inches  \\\n",
      "0           1   Apple  MacBook Pro  Ultrabook    13.3   \n",
      "1           2   Apple  Macbook Air  Ultrabook    13.3   \n",
      "2           3      HP       250 G6   Notebook    15.6   \n",
      "\n",
      "                     ScreenResolution                         Cpu  Ram  \\\n",
      "0  IPS Panel Retina Display 2560x1600        Intel Core i5 2.3GHz  8GB   \n",
      "1                            1440x900        Intel Core i5 1.8GHz  8GB   \n",
      "2                   Full HD 1920x1080  Intel Core i5 7200U 2.5GHz  8GB   \n",
      "\n",
      "                Memory                           Gpu  OpSys  Weight  \\\n",
      "0            128GB SSD  Intel Iris Plus Graphics 640  macOS  1.37kg   \n",
      "1  128GB Flash Storage        Intel HD Graphics 6000  macOS  1.34kg   \n",
      "2            256GB SSD         Intel HD Graphics 620  No OS  1.86kg   \n",
      "\n",
      "   Price_euros  \n",
      "0      1339.69  \n",
      "1       898.94  \n",
      "2       575.00  \n"
     ]
    }
   ],
   "source": [
    "# Impute median price and print the head\n",
    "laptops.fillna(laptops['Price_euros'].median(), inplace=True)\n",
    "print(laptops.head(3))"
   ]
  },
  {
   "cell_type": "code",
   "execution_count": 116,
   "metadata": {},
   "outputs": [
    {
     "name": "stdout",
     "output_type": "stream",
     "text": [
      "   Unnamed: 0 Company      Product   TypeName  Inches  \\\n",
      "0           1   Apple  MacBook Pro  Ultrabook    13.3   \n",
      "1           2   Apple  Macbook Air  Ultrabook    13.3   \n",
      "2           3      HP       250 G6   Notebook    15.6   \n",
      "\n",
      "                     ScreenResolution                         Cpu  Ram  \\\n",
      "0  IPS Panel Retina Display 2560x1600        Intel Core i5 2.3GHz  8GB   \n",
      "1                            1440x900        Intel Core i5 1.8GHz  8GB   \n",
      "2                   Full HD 1920x1080  Intel Core i5 7200U 2.5GHz  8GB   \n",
      "\n",
      "                Memory                           Gpu  OpSys  Weight  \\\n",
      "0            128GB SSD  Intel Iris Plus Graphics 640  macOS  1.37kg   \n",
      "1  128GB Flash Storage        Intel HD Graphics 6000  macOS  1.34kg   \n",
      "2            256GB SSD         Intel HD Graphics 620  No OS  1.86kg   \n",
      "\n",
      "   Price_euros  \n",
      "0      1339.69  \n",
      "1       898.94  \n",
      "2       575.00  \n"
     ]
    }
   ],
   "source": [
    "# Drop each row with a null value and print the head\n",
    "laptops.dropna(inplace=True)\n",
    "print(laptops.head(3))"
   ]
  },
  {
   "cell_type": "markdown",
   "metadata": {},
   "source": [
    "**Identifying outliers**\n",
    "\n",
    "Let's keep at it with our laptops dataset and tackle some outliers hiding away. In this exercise, we'll stick to the first technique we discussed in the slides using standard deviations to identify extreme values, since this method is more common in practice.\n",
    "\n",
    "You'll compute the descriptive statistics and outlier boundaries, and then identify the rows with them before dropping them from the dataset. You'll be working primarily with the Price column here."
   ]
  },
  {
   "cell_type": "code",
   "execution_count": 123,
   "metadata": {},
   "outputs": [
    {
     "name": "stdout",
     "output_type": "stream",
     "text": [
      "-973.3401360432797 to 3220.7141191591663\n",
      "      Unnamed: 0 Company             Product     TypeName  Inches  \\\n",
      "196          200   Razer           Blade Pro       Gaming    17.3   \n",
      "238          243    Asus   ROG G703VI-E5062T       Gaming    17.3   \n",
      "610          617  Lenovo        Thinkpad P51     Notebook    15.6   \n",
      "723          731    Dell        Alienware 17       Gaming    17.3   \n",
      "744          752  Lenovo       Thinkpad P51s  Workstation    15.6   \n",
      "749          758      HP            Zbook 17  Workstation    17.3   \n",
      "780          789    Dell        Alienware 17       Gaming    17.3   \n",
      "830          839   Razer           Blade Pro       Gaming    17.3   \n",
      "1066        1081    Asus          ROG G701VO       Gaming    17.3   \n",
      "1081        1096  Lenovo  IdeaPad Y900-17ISK       Gaming    17.3   \n",
      "1136        1151      HP            ZBook 17  Workstation    17.3   \n",
      "1231        1249   Razer           Blade Pro       Gaming    14.0   \n",
      "\n",
      "                         ScreenResolution                            Cpu  \\\n",
      "196   4K Ultra HD / Touchscreen 3840x2160    Intel Core i7 7820HK 2.9GHz   \n",
      "238                     Full HD 1920x1080    Intel Core i7 7820HK 2.9GHz   \n",
      "610       IPS Panel 4K Ultra HD 3840x2160  Intel Xeon E3-1535M v6 3.1GHz   \n",
      "723                 4K Ultra HD 3840x2160    Intel Core i7 7700HQ 2.8GHz   \n",
      "744       IPS Panel 4K Ultra HD 3840x2160     Intel Core i7 7600U 2.8GHz   \n",
      "749           IPS Panel Full HD 1920x1080  Intel Xeon E3-1535M v5 2.9GHz   \n",
      "780           IPS Panel Full HD 1920x1080    Intel Core i7 7700HQ 2.8GHz   \n",
      "830   4K Ultra HD / Touchscreen 3840x2160    Intel Core i7 7820HK 2.9GHz   \n",
      "1066          IPS Panel Full HD 1920x1080    Intel Core i7 6820HK 2.7GHz   \n",
      "1081          IPS Panel Full HD 1920x1080    Intel Core i7 6820HK 2.7GHz   \n",
      "1136          IPS Panel Full HD 1920x1080    Intel Core i7 6700HQ 2.6GHz   \n",
      "1231                    Full HD 1920x1080    Intel Core i7 7700HQ 2.8GHz   \n",
      "\n",
      "       Ram                     Memory                       Gpu       OpSys  \\\n",
      "196   32GB                    1TB SSD   Nvidia GeForce GTX 1080  Windows 10   \n",
      "238   32GB       512GB SSD +  1TB HDD   Nvidia GeForce GTX 1080  Windows 10   \n",
      "610   32GB                    1TB SSD      Nvidia Quadro M2200M  Windows 10   \n",
      "723   32GB         1TB SSD +  1TB HDD   Nvidia GeForce GTX 1070  Windows 10   \n",
      "744   16GB                    1TB SSD       Nvidia Quadro M520M  Windows 10   \n",
      "749   16GB                  256GB SSD      Nvidia Quadro M2000M   Windows 7   \n",
      "780   32GB         1TB SSD +  1TB HDD  Nvidia GeForce GTX 1070M  Windows 10   \n",
      "830   32GB                  512GB SSD   Nvidia GeForce GTX 1080  Windows 10   \n",
      "1066  64GB                    1TB SSD   Nvidia GeForce GTX 980   Windows 10   \n",
      "1081  32GB  512GB SSD +  1.0TB Hybrid   Nvidia GeForce GTX 980M  Windows 10   \n",
      "1136   8GB                  256GB SSD      Nvidia Quadro M3000M   Windows 7   \n",
      "1231  16GB                    1TB SSD   Nvidia GeForce GTX 1060  Windows 10   \n",
      "\n",
      "      Weight  Price_euros  \n",
      "196   3.49kg       6099.0  \n",
      "238    4.7kg       3890.0  \n",
      "610    2.5kg       4899.0  \n",
      "723   4.36kg       3659.4  \n",
      "744    2.5kg       3299.0  \n",
      "749      3kg       4389.0  \n",
      "780   4.42kg       3588.8  \n",
      "830   3.49kg       5499.0  \n",
      "1066  3.58kg       3975.0  \n",
      "1081   4.6kg       3240.0  \n",
      "1136     3kg       3949.4  \n",
      "1231  1.95kg       3499.0  \n"
     ]
    }
   ],
   "source": [
    "# Calculate the mean and std\n",
    "mean, std = laptops['Price_euros'].mean(), laptops['Price_euros'].std()\n",
    "\n",
    "# Compute and print the upper and lower threshold\n",
    "cut_off = std * 3\n",
    "lower, upper = mean-cut_off, mean+cut_off\n",
    "print(lower, 'to', upper)\n",
    "\n",
    "# Identify and print rows with outliers\n",
    "outliers = laptops[(laptops['Price_euros'] > upper) | (laptops['Price_euros'] < lower)]\n",
    "print(outliers)\n",
    "\n",
    "# Drop the rows from the dataset\n",
    "laptops = laptops[(laptops['Price_euros'] <= upper) | (laptops['Price_euros'] >= lower)]"
   ]
  }
 ],
 "metadata": {
  "kernelspec": {
   "display_name": "Python 3",
   "language": "python",
   "name": "python3"
  },
  "language_info": {
   "codemirror_mode": {
    "name": "ipython",
    "version": 3
   },
   "file_extension": ".py",
   "mimetype": "text/x-python",
   "name": "python",
   "nbconvert_exporter": "python",
   "pygments_lexer": "ipython3",
   "version": "3.6.5"
  }
 },
 "nbformat": 4,
 "nbformat_minor": 2
}
